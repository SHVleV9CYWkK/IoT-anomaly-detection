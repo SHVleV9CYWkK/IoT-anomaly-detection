{
 "cells": [
  {
   "cell_type": "markdown",
   "source": [
    "Import necessary dependencies"
   ],
   "metadata": {
    "collapsed": false
   },
   "id": "c7815af7af69f60e"
  },
  {
   "cell_type": "code",
   "execution_count": 1,
   "id": "initial_id",
   "metadata": {
    "collapsed": true,
    "ExecuteTime": {
     "end_time": "2023-11-22T23:44:12.182888Z",
     "start_time": "2023-11-22T23:44:10.150397Z"
    }
   },
   "outputs": [],
   "source": [
    "import os\n",
    "import numpy as np\n",
    "import pandas as pd\n",
    "import random\n",
    "from sklearn.metrics import accuracy_score, precision_score, recall_score, f1_score\n",
    "from sklearn.preprocessing import MinMaxScaler\n",
    "from sklearn.utils.class_weight import compute_class_weight\n",
    "import torch\n",
    "from torch import optim\n",
    "import torch.nn as nn\n",
    "from torch.utils.data import TensorDataset\n",
    "from torch.utils.data import DataLoader\n",
    "from matplotlib import pyplot as plt\n",
    "from tqdm import tqdm\n",
    "from datetime import datetime"
   ]
  },
  {
   "cell_type": "code",
   "execution_count": 2,
   "outputs": [],
   "source": [
    "seed = 42\n",
    "torch.manual_seed(seed)\n",
    "np.random.seed(seed)\n",
    "random.seed(seed)"
   ],
   "metadata": {
    "collapsed": false,
    "ExecuteTime": {
     "end_time": "2023-11-22T23:44:12.189076Z",
     "start_time": "2023-11-22T23:44:12.183197Z"
    }
   },
   "id": "12b79a6c06694f92"
  },
  {
   "cell_type": "code",
   "execution_count": 3,
   "outputs": [],
   "source": [
    "if torch.cuda.is_available():\n",
    "    device = torch.device(\"cuda\")\n",
    "    torch.cuda.manual_seed(seed)\n",
    "    torch.backends.cudnn.deterministic = True\n",
    "    torch.backends.cudnn.benchmark = False\n",
    "# elif torch.backends.mps.is_available():\n",
    "#     device = torch.device(\"mps:0\")\n",
    "else:\n",
    "    device = torch.device(\"cpu\")"
   ],
   "metadata": {
    "collapsed": false,
    "ExecuteTime": {
     "end_time": "2023-11-22T23:44:12.189753Z",
     "start_time": "2023-11-22T23:44:12.187665Z"
    }
   },
   "id": "5a088d0e8dead3f9"
  },
  {
   "cell_type": "markdown",
   "source": [
    "Get the dataset as a dataframe"
   ],
   "metadata": {
    "collapsed": false
   },
   "id": "a59fabd441d22859"
  },
  {
   "cell_type": "code",
   "execution_count": 4,
   "outputs": [],
   "source": [
    "data = pd.read_csv('datasets/IoT_Modbus.csv')"
   ],
   "metadata": {
    "collapsed": false,
    "ExecuteTime": {
     "end_time": "2023-11-22T23:44:12.384256Z",
     "start_time": "2023-11-22T23:44:12.190709Z"
    }
   },
   "id": "969c8f8886dbef26"
  },
  {
   "cell_type": "markdown",
   "source": [
    "# Data Preprocessing for Date and Time Features\n",
    "\n",
    "This section of the code focuses on preprocessing the date and time columns in the dataset to create a unified datetime column.\n",
    "\n",
    "1. **Stripping Whitespace**:\n",
    "   - `data['date']` and `data['time']`: Any leading and trailing whitespace in the 'date' and 'time' columns is removed using the `.str.strip()` method. This step ensures that the date and time strings are in a consistent format, which is crucial for successful parsing in the next step.\n",
    "\n",
    "2. **Combining Date and Time Columns**:\n",
    "   - `data['datetime']`: The 'date' and 'time' columns are concatenated with a space in between to form a single string representing the datetime. This combination is necessary to create a unified datetime object from the separate date and time information.\n",
    "\n",
    "3. **Converting to DateTime Object**:\n",
    "   - `pd.to_datetime`: The concatenated string is then converted into a datetime object using Pandas' `to_datetime` function. The `format` parameter is specified as '%d-%b-%y %H:%M:%S', which matches the format of the input strings, ensuring accurate parsing.\n",
    "   - The resultant 'datetime' column now provides a more useful and standardized format for any subsequent data analysis or time series modeling, integrating both date and time information into a single, coherent column."
   ],
   "metadata": {
    "collapsed": false
   },
   "id": "34a9dccfe7b750f4"
  },
  {
   "cell_type": "code",
   "execution_count": 5,
   "outputs": [],
   "source": [
    "data['date'] = data['date'].str.strip()\n",
    "data['time'] = data['time'].str.strip()\n",
    "data['datetime'] = pd.to_datetime(data['date'] + ' ' + data['time'], format='%d-%b-%y %H:%M:%S')"
   ],
   "metadata": {
    "collapsed": false,
    "ExecuteTime": {
     "end_time": "2023-11-22T23:44:13.763214Z",
     "start_time": "2023-11-22T23:44:12.385129Z"
    }
   },
   "id": "b0c2e5922a26caa1"
  },
  {
   "cell_type": "markdown",
   "source": [
    "## Extracting Date and Time Components\n",
    "\n",
    "This part of the code is focused on extracting specific date and time components from the unified 'datetime' column in the data. This process is crucial for detailed time series analysis or for creating features that might be relevant for predictive modeling.\n",
    "\n",
    "By breaking down the datetime into these individual components, the dataset is enriched with additional features that can provide deeper insights during data exploration or enhance the performance of predictive models."
   ],
   "metadata": {
    "collapsed": false
   },
   "id": "c5a533a2b1f01a79"
  },
  {
   "cell_type": "code",
   "execution_count": 6,
   "outputs": [],
   "source": [
    "data['year'] = data['datetime'].dt.year\n",
    "data['month'] = data['datetime'].dt.month\n",
    "data['day'] = data['datetime'].dt.day\n",
    "data['hour'] = data['datetime'].dt.hour\n",
    "data['minute'] = data['datetime'].dt.minute\n",
    "data['second'] = data['datetime'].dt.second\n",
    "data['dayofweek'] = data['datetime'].dt.dayofweek"
   ],
   "metadata": {
    "collapsed": false,
    "ExecuteTime": {
     "end_time": "2023-11-22T23:44:13.777508Z",
     "start_time": "2023-11-22T23:44:12.820619Z"
    }
   },
   "id": "c0beb939e4303617"
  },
  {
   "cell_type": "markdown",
   "source": [
    "## Finalizing Data Preprocessing for Date and Time Features\n",
    "\n",
    "This section of the code is dedicated to finalizing the preprocessing steps for the dataset, ensuring it is organized and formatted appropriately for further analysis or modeling.\n",
    "\n",
    "1. **Sorting Data by DateTime**:\n",
    "   - The dataset is sorted based on the 'datetime' column using `data.sort_values(by='datetime')`. Sorting by datetime is essential for our time series models, as it ensures the data is in chronological order.\n",
    "\n",
    "2. **Dropping Unnecessary Columns**:\n",
    "   - `data.drop(...)`: The original 'date', 'time', 'datetime', and 'type' columns are dropped from the dataset. These columns are no longer needed as we have extracted all the required information into separate features.\n",
    "   - The `inplace=True` parameter is used to modify the data frame in place, without creating a new one.\n",
    "\n",
    "3. **Adjusting Feature Order and Data Type**:\n",
    "   - `order`: A predefined order of features is specified, including the extracted date and time components, feature columns like 'FC1_Read_Input_Register', 'FC2_Read_Discrete_Value', etc., and the 'label' column.\n",
    "   - `data = data[order].astype('int32')`: The dataset is then reorganized to follow this specific order, and the data type of all columns is converted to 'int32'. This step ensures that the dataset has a consistent format and is optimized for memory usage, which can be particularly important for large datasets."
   ],
   "metadata": {
    "collapsed": false
   },
   "id": "dfdf8be0feb86374"
  },
  {
   "cell_type": "code",
   "execution_count": 7,
   "outputs": [],
   "source": [
    "# Sort the data by datetime\n",
    "data = data.sort_values(by='datetime')\n",
    "\n",
    "# Drop the original date, time, and timestamp columns\n",
    "data.drop(['date', 'time', 'datetime', 'type'], axis=1, inplace=True)\n",
    "\n",
    "# Adjust feature order\n",
    "order = ['year', 'month', 'day', 'hour', 'minute', 'second', 'dayofweek', 'FC1_Read_Input_Register', 'FC2_Read_Discrete_Value', 'FC3_Read_Holding_Register', 'FC4_Read_Coil', 'label']\n",
    "data = data[order].astype('int32')"
   ],
   "metadata": {
    "collapsed": false,
    "ExecuteTime": {
     "end_time": "2023-11-22T23:44:13.778138Z",
     "start_time": "2023-11-22T23:44:12.854925Z"
    }
   },
   "id": "87cbc212dbe19442"
  },
  {
   "cell_type": "markdown",
   "source": [
    "---\n",
    "# Data Split\n",
    "## Training, and Testing Sets\n",
    "In this project, I utilized both training and test sets. Initially, I designated 80% of the data as the training set and the remaining 20% as an unseen test set. This division ensures that the model has sufficient data for learning during the training process, enhancing its accuracy and robustness while preventing underfitting. Moreover, using 20% of unseen data as an independent test set to evaluate the model's final performance helps in assessing the model's generalization capability on new data, rather than merely measuring its fit on the training data.\n",
    "\n",
    "The approach here differs from using sklearn.model_selection.train_test_split. We employed a Recurrent Neural Network with Long Short-Term Memory (LSTM), necessitating the preservation of the dataset's chronological order. This is done to maintain the continuity of the time series data, enabling the network to more effectively learn and predict patterns and trends within the time series."
   ],
   "metadata": {
    "collapsed": false
   },
   "id": "347aaeb8bf6dd766"
  },
  {
   "cell_type": "code",
   "execution_count": 8,
   "outputs": [],
   "source": [
    "# Calculate split points\n",
    "split_idx = int(len(data) * 0.8)\n",
    "\n",
    "# Split the data set, keeping order\n",
    "train_data = data.iloc[:split_idx]\n",
    "test_data = data.iloc[split_idx:]\n",
    "\n",
    "# Separate features and labels\n",
    "X_train = train_data.drop('label', axis=1)\n",
    "y_train = train_data['label']\n",
    "X_test = test_data.drop('label', axis=1)\n",
    "y_test = test_data['label']"
   ],
   "metadata": {
    "collapsed": false,
    "ExecuteTime": {
     "end_time": "2023-11-22T23:44:13.778467Z",
     "start_time": "2023-11-22T23:44:12.909704Z"
    }
   },
   "id": "7f9a3e7015aaf6cb"
  },
  {
   "cell_type": "markdown",
   "source": [
    "---\n",
    "# Data preprocessing \n",
    "## Feature Scaling\n",
    "Feature scaling is a crucial step to enhance the performance and convergence speed of the model. In this part of the code, we performed the following actions:\n",
    "\n",
    "1. **Selecting Feature Columns**: We created a list of feature columns `feature_columns`, which includes all columns except the 'label' column. This is because the 'label' column is the target variable and should not be considered for feature scaling.\n",
    "\n",
    "2. **Applying MinMax Scaling**: We used `MinMaxScaler` to scale the features. This scaler transforms all feature values to a range between 0 and 1. Such scaling is beneficial for maintaining relative scales between different features and also prevents potential negative impacts of extreme values on model training.\n",
    "\n",
    "3. **Transforming Training and Test Data**: The `fit_transform` method is applied to the training data to learn the distribution of the data and transform it. For the test data, we only use the `transform` method, ensuring that we scale the test data using the same parameters (learned from the training data) to avoid data leakage, which is crucial for an accurate evaluation of model performance.\n",
    "\n",
    "4. **Viewing Information of Transformed Training Data**: Through `X_train.info()`, we can view the information of the scaled training dataset, including the data type and the number of non-null values for each feature. This helps to verify that the scaling process has been correctly executed and ensures that the dataset is ready for model training."
   ],
   "metadata": {
    "collapsed": false
   },
   "id": "17f2fffdb83cab7f"
  },
  {
   "cell_type": "code",
   "execution_count": 9,
   "outputs": [
    {
     "name": "stdout",
     "output_type": "stream",
     "text": [
      "<class 'pandas.core.frame.DataFrame'>\n",
      "Index: 229755 entries, 541 to 184368\n",
      "Data columns (total 11 columns):\n",
      " #   Column                     Non-Null Count   Dtype  \n",
      "---  ------                     --------------   -----  \n",
      " 0   year                       229755 non-null  float32\n",
      " 1   month                      229755 non-null  float32\n",
      " 2   day                        229755 non-null  float32\n",
      " 3   hour                       229755 non-null  float32\n",
      " 4   minute                     229755 non-null  float32\n",
      " 5   second                     229755 non-null  float32\n",
      " 6   dayofweek                  229755 non-null  float32\n",
      " 7   FC1_Read_Input_Register    229755 non-null  float32\n",
      " 8   FC2_Read_Discrete_Value    229755 non-null  float32\n",
      " 9   FC3_Read_Holding_Register  229755 non-null  float32\n",
      " 10  FC4_Read_Coil              229755 non-null  float32\n",
      "dtypes: float32(11)\n",
      "memory usage: 11.4 MB\n"
     ]
    }
   ],
   "source": [
    "feature_columns = [col for col in X_train.columns if col != 'label']\n",
    "scaler = MinMaxScaler()\n",
    "X_train[feature_columns] = scaler.fit_transform(X_train[feature_columns]).astype('float32')\n",
    "X_test[feature_columns] = scaler.transform(X_test[feature_columns]).astype('float32')\n",
    "X_train.info()"
   ],
   "metadata": {
    "collapsed": false,
    "ExecuteTime": {
     "end_time": "2023-11-22T23:44:13.779626Z",
     "start_time": "2023-11-22T23:44:12.916621Z"
    }
   },
   "id": "485e69a0e89e7b9"
  },
  {
   "cell_type": "markdown",
   "source": [
    "---\n",
    "# Model Implementation\n",
    "## Lightweight LSTM Model Implementation\n",
    "\n",
    "In this task, we aim to build a lightweight Long Short-Term Memory (LSTM) network for handling time series data. The objective of this model is to optimize performance while reducing the demand for computational resources. To achieve this goal, we will employ several key design strategies.\n",
    "\n",
    "## Model Construction\n",
    "Firstly, we have defined a PyTorch-based LSTM model class `LightweightLSTM`. This class comprises the following main components:\n",
    "- **Initialization Function** (`__init__` method): We set the input size (`input_size`), hidden layer size (`hidden_size`), output size (`output_size`), and other optional parameters such as the number of layers (`num_layers`) and a width multiplier (`width_multiplier`). These parameters allow us to customize the model’s size and complexity based on the task requirements.\n",
    "- **Width Adjustment**: The hidden layer size (`adjusted_hidden_size`) is adjusted using the width multiplier, making the model more flexible and lightweight. This multiplier allows us to adjust its capacity while maintaining the model structure, thus adapting to different computational and performance requirements.\n",
    "- **LSTM Layer**: An LSTM layer with the adjusted hidden layer size is defined to process the input sequence data. We use the `batch_first=True` parameter, enabling the model to handle batch data more conveniently.\n",
    "- **Fully Connected Layer**: A linear layer (`nn.Linear`) maps the output of the LSTM to the desired output size.\n",
    "\n",
    "## Forward Propagation\n",
    "In the `forward` method, we describe the process of data propagation through the model:\n",
    "- **LSTM Processing**: The input data `x` passes through the LSTM layer, producing feature vectors that contain the results for each time step.\n",
    "- **Extracting the Output of the Last Time Step**: In many time series tasks, the output of the last time step is particularly important. We extract this part of the data from the LSTM output.\n",
    "- **Output Layer**: Finally, we transform the output of the last time step into the final prediction result through the fully connected layer.\n",
    "\n",
    "With this design, our `LightweightLSTM` model can effectively process time series data while maintaining a lower computational complexity, making it suitable for resource-constrained environments or applications requiring quick responses.\n",
    "\n",
    "## Problem Formulation\n",
    "\n",
    "In this task, we utilize the `LightweightLSTM` model to solve a binary classification problem, specifically determining the category of time series data. The key components of the problem formulation are detailed below:\n",
    "\n",
    "- **Objective**: The objective is to use the `LightweightLSTM` model to predict binary outcomes based on input time series data. This means that for each input sequence, the model needs to determine whether it belongs to category 0 or category 1.\n",
    "\n",
    "- **Input**: The input data $\\mathbf{X} = \\{\\mathbf{x}_1, \\mathbf{x}_2, \\ldots, \\mathbf{x}_T\\}$ is a time series, where each $\\mathbf{x}_t \\in \\mathbb{R}^{n}$ is an $n$-dimensional feature vector at time point $t$.\n",
    "\n",
    "- **Output**: The output $\\hat{y}$ of the model is a probability value, indicating the likelihood of the input sequence belonging to a specific category. Since this is a binary classification task, $\\hat{y} \\in [0, 1]$.\n",
    "\n",
    "- **Model**: `LightweightLSTM` is a neural network based on LSTM architecture, particularly suited for processing time series data. The model learns temporal dependencies through its LSTM layers and fully connected layer, and outputs the classification probability.\n",
    "\n",
    "- **Loss Function**: We use the Binary Cross-Entropy Loss (BCE) to quantify the difference between the model predictions and the actual labels. The loss function is defined as:\n",
    "$$L(\\mathbf{y}, \\hat{\\mathbf{y}}) = -\\frac{1}{N} \\sum_{i=1}^{N} \\left[ y_i \\cdot \\log(\\sigma(\\hat{y}_i)) + (1 - y_i) \\cdot \\log(1 - \\sigma(\\hat{y}_i)) \\right]$$\n",
    "  where $N$ is the number of samples, $y_i$ is the actual class label of sample $i$ (0 or 1), $\\hat{y}_i$ is the predicted output of the model for sample $i$, and $\\sigma$ is the Sigmoid function.\n",
    "\n",
    "- **Optimization Objective**: The optimization objective is to minimize the Binary Cross-Entropy Loss, i.e., finding a set of parameters $\\theta$ that minimizes $L(\\mathbf{y}, \\hat{\\mathbf{y}}; \\theta)$."
   ],
   "metadata": {
    "collapsed": false
   },
   "id": "25c12c1b7fb50ea4"
  },
  {
   "cell_type": "code",
   "execution_count": 10,
   "outputs": [],
   "source": [
    "class LightweightLSTM(nn.Module):\n",
    "    def __init__(self, input_size, hidden_size, output_size, num_layers=1, width_multiplier=1.0):\n",
    "        super(LightweightLSTM, self).__init__()\n",
    "        # Adjust hidden size based on the width multiplier\n",
    "        adjusted_hidden_size = int(hidden_size * width_multiplier)\n",
    "\n",
    "        # Define the LSTM layer\n",
    "        self.lstm = nn.LSTM(input_size, adjusted_hidden_size, num_layers=num_layers, batch_first=True)\n",
    "\n",
    "        self.fc = nn.Linear(adjusted_hidden_size, output_size)\n",
    "\n",
    "    def forward(self, x):\n",
    "        # LSTM layer\n",
    "        lstm_out, _ = self.lstm(x)\n",
    "\n",
    "        # Take the output of the last time step\n",
    "        last_time_step_out = lstm_out[:, -1, :]\n",
    "\n",
    "        # Output layer\n",
    "        out = self.fc(last_time_step_out)\n",
    "        return out"
   ],
   "metadata": {
    "collapsed": false,
    "ExecuteTime": {
     "end_time": "2023-11-22T23:44:13.779824Z",
     "start_time": "2023-11-22T23:44:12.942017Z"
    }
   },
   "id": "2ef4fe25ff764a21"
  },
  {
   "cell_type": "markdown",
   "source": [
    "## LSTM Model Instantiation\n",
    "\n",
    "In this section of the code, we instantiate the `LightweightLSTM` model with specific hyperparameters tailored for our binary classification task on time series data. The configuration of the model is as follows:\n",
    "\n",
    "1. **Defining Hyperparameters**:\n",
    "   - `features_num`: This represents the number of input features in the dataset, determined by `X_train.shape[1]`. It sets the input size for our LSTM model.\n",
    "   - `hidden_neurons_num`: We have set the number of neurons in each hidden layer of the LSTM to 512. This number defines the capacity and complexity of the LSTM layers.\n",
    "   - `output_neurons_num`: Since this is a binary classification task, the number of output neurons is set to 1. The output of the model will represent the probability of the input belonging to one of the two classes.\n",
    "   - `lstm_num_layers`: The model is configured with 2 LSTM layers. Multiple layers can help the model learn more complex patterns in the data.\n",
    "   - `multiplier`: A width multiplier set to 1, indicating that we are using the base size for the hidden layers without any scaling.\n",
    "\n",
    "2. **Model Initialization**:\n",
    "   - The `LightweightLSTM` model is initialized with these hyperparameters. This step creates a model instance that is ready to be trained on our dataset.\n",
    "   - The model is then transferred to the designated computing device with `.to(device)`. This ensures that the model will utilize the correct hardware (such as a GPU) for training and inference, improving computational efficiency."
   ],
   "metadata": {
    "collapsed": false
   },
   "id": "3417f767ae1b5015"
  },
  {
   "cell_type": "code",
   "execution_count": 11,
   "outputs": [],
   "source": [
    "features_num = X_train.shape[1]\n",
    "hidden_neurons_num = 512\n",
    "output_neurons_num = 1\n",
    "lstm_num_layers = 2\n",
    "multiplier = 0.5\n",
    "\n",
    "model = LightweightLSTM(features_num, hidden_neurons_num, output_neurons_num, lstm_num_layers, multiplier).to(device)"
   ],
   "metadata": {
    "collapsed": false,
    "ExecuteTime": {
     "end_time": "2023-11-22T23:44:13.779945Z",
     "start_time": "2023-11-22T23:44:12.946279Z"
    }
   },
   "id": "2d66654954854fc2"
  },
  {
   "cell_type": "markdown",
   "source": [
    "## Computing Class Weights to Balance the Dataset\n",
    "\n",
    "In our task, the occurrence of attacks (positive samples) in network data is typically less frequent compared to normal (negative samples) traffic, leading to an issue of class imbalance in our dataset. To address this issue and enhance the model's performance in detecting attacks, we have adopted a method of computing class weights.\n",
    "\n",
    "1. **Calculating Weights Using `compute_class_weight`**:\n",
    "   - We calculate weights for each category using the `compute_class_weight` function from scikit-learn. These weights are determined based on their frequency of occurrence in the training set (`y_train`).\n",
    "   - Setting `class_weight='balanced'` ensures that less frequently occurring categories (in our case, attack data) are assigned higher weights.\n",
    "   - `classes=np.unique(y_train)`: This ensures that the weight calculation encompasses all unique class labels.\n",
    "\n",
    "2. **Converting to PyTorch Tensor and Assigning to the Device**:\n",
    "   - The calculated class weights are then converted into a PyTorch tensor, as our model is trained using PyTorch.\n",
    "\n",
    "By this approach, we adjust the model's handling of class imbalance, thereby making it more effective in detecting potential attacks in IoT device network data. This helps to increase the model's accuracy and sensitivity in detecting attack categories that occur less frequently."
   ],
   "metadata": {
    "collapsed": false
   },
   "id": "4a3db2268fc6ed9c"
  },
  {
   "cell_type": "code",
   "execution_count": 12,
   "outputs": [],
   "source": [
    "class_weights = compute_class_weight(class_weight='balanced', classes=np.unique(y_train), y=y_train)\n",
    "class_weights = torch.tensor(class_weights, dtype=torch.float).to(device=device)"
   ],
   "metadata": {
    "collapsed": false,
    "ExecuteTime": {
     "end_time": "2023-11-22T23:44:13.780053Z",
     "start_time": "2023-11-22T23:44:12.957798Z"
    }
   },
   "id": "5dd5b70589db43fd"
  },
  {
   "cell_type": "markdown",
   "source": [
    "## Setting Up the Loss Function and Optimizer\n",
    "\n",
    "In this part of the code, we configure the loss function and optimizer for our neural network model, which is crucial for the model's training process.\n",
    "\n",
    "1. **Defining Custom Weights for Loss Function**:\n",
    "   - `weights`: We create a tensor `weights` with two elements. The first element is for the negative class (normal data), set to 1. The second element is the computed weight for the positive class (attack data), derived from `class_weights[1]`. This approach emphasizes the importance of correctly classifying the less frequent positive class in our dataset.\n",
    "   - The tensor `weights` is defined with data type `torch.float`, ensuring compatibility with PyTorch operations.\n",
    "\n",
    "2. **Binary Cross-Entropy with Logits Loss (BCEWithLogitsLoss)**:\n",
    "   - `criterion`: We use the `nn.BCEWithLogitsLoss` loss function from PyTorch, which combines a Sigmoid layer and the BCELoss in one single class. This is particularly useful for binary classification tasks.\n",
    "   - The argument `torch.FloatTensor([weights[1] / weights[0]])` is passed to the loss function, which adjusts the loss calculation to account for the imbalance between the positive and negative classes.\n",
    "\n",
    "3. **Optimizer Configuration**:\n",
    "   - `optimizer`: We use the Adam optimizer, a popular choice for training deep learning models. It's defined with `optim.Adam(model.parameters(), lr=0.0001)`, where `lr=0.0001` specifies a learning rate of 0.0001. This learning rate determines the step size during the gradient descent optimization process."
   ],
   "metadata": {
    "collapsed": false
   },
   "id": "9da11cc42cf71b4f"
  },
  {
   "cell_type": "code",
   "execution_count": 13,
   "outputs": [],
   "source": [
    "weights = torch.tensor([1, class_weights[1]], dtype=torch.float)\n",
    "criterion = nn.BCEWithLogitsLoss(torch.FloatTensor ([weights[1] / weights[0]])).to(device)\n",
    "optimizer = optim.Adam(model.parameters(), lr=0.0005)"
   ],
   "metadata": {
    "collapsed": false,
    "ExecuteTime": {
     "end_time": "2023-11-22T23:44:13.780135Z",
     "start_time": "2023-11-22T23:44:12.978768Z"
    }
   },
   "id": "f491c38526ef20b7"
  },
  {
   "cell_type": "markdown",
   "source": [
    "## Preparing the Training Data\n",
    "\n",
    "In this section of the code, we are preparing our training data for the neural network model, particularly for batch processing during training. This involves converting the data into PyTorch tensors, organizing it into a dataset, and finally creating a data loader for efficient batch processing.\n",
    "\n",
    "1. **Setting Batch Size**:\n",
    "   - `batch_size`: We set the batch size to 128. Batch size is a key hyperparameter in training neural networks, determining the number of samples processed before the model's internal parameters are updated.\n",
    "\n",
    "2. **Converting Training Data to PyTorch Tensors**:\n",
    "   - `X_train_tensor`: The feature data (`X_train`) from the training set is converted into a PyTorch tensor. We use `.float()` to ensure the data is in floating-point format, which is required for neural network operations in PyTorch.\n",
    "   - `y_train_tensor`: Similarly, the target variable (`y_train`) is converted into a PyTorch tensor.\n",
    "   - Both tensors are reshaped with `.unsqueeze(1)` to add an additional dimension, aligning them with the expected input format for the neural network.\n",
    "\n",
    "3. **Creating TensorDataset and DataLoader**:\n",
    "   - `train_dataset`: We use `TensorDataset` to create a dataset from `X_train_tensor` and `y_train_tensor`. `TensorDataset` is a convenient wrapper for combining features and target tensors.\n",
    "   - `train_loader`: The `DataLoader` is created from the `train_dataset`. It facilitates efficient iteration over the dataset in batches of size `batch_size`, here 128. The `shuffle=False` parameter indicates that the data will not be shuffled at each epoch. In certain time-series applications, maintaining the sequence of data is crucial."
   ],
   "metadata": {
    "collapsed": false
   },
   "id": "b12e726d70842c15"
  },
  {
   "cell_type": "code",
   "execution_count": 14,
   "outputs": [],
   "source": [
    "batch_size = 128\n",
    "X_train_tensor = torch.tensor(X_train.values).float().unsqueeze(1).to(device)\n",
    "y_train_tensor = torch.tensor(y_train.values).float().unsqueeze(1).to(device)\n",
    "train_dataset = TensorDataset(X_train_tensor, y_train_tensor)\n",
    "train_loader = DataLoader(train_dataset, batch_size=batch_size, shuffle=False)"
   ],
   "metadata": {
    "collapsed": false,
    "ExecuteTime": {
     "end_time": "2023-11-22T23:44:13.780230Z",
     "start_time": "2023-11-22T23:44:12.984561Z"
    }
   },
   "id": "578fb1053dfb20ed"
  },
  {
   "cell_type": "markdown",
   "source": [
    "## Training Loop\n",
    "\n",
    "This section of the code outlines the training process of the neural network model over a specified number of epochs. \n",
    "\n",
    "1. **Setting Up the Training**:\n",
    "   - `num_epochs`: The total number of epochs (iterations over the entire dataset) is set to 100. An epoch is one complete cycle through the training data.\n",
    "   - `loss_list` and `acc_list`: These lists are initialized to store the loss and accuracy values for each epoch, allowing for tracking the model's performance over time.\n",
    "\n",
    "2. **Training Loop**:\n",
    "   - The loop iterates over the number of epochs specified. In each epoch, the model's parameters are updated based on the training data.\n",
    "   - `model.train()`: This sets the model to training mode, enabling certain layers to function appropriately during training.\n",
    "   - `running_loss` and `running_accuracy`: Variables initialized to accumulate the loss and accuracy for each batch within an epoch.\n",
    "\n",
    "3. **Batch Processing Within Each Epoch**:\n",
    "   - The inner loop iterates over each batch of data in `train_loader`.\n",
    "   - **Forward Pass (FP)**: The model computes the output (`outputs`) for a batch of inputs.\n",
    "   - **Loss Computation**: The loss between the outputs and the ground truth labels is calculated using the criterion defined earlier.\n",
    "   - **Backpropagation and Optimization (BP)**: The gradients are computed (`loss.backward()`) and the optimizer updates the model parameters (`optimizer.step()`).\n",
    "\n",
    "4. **Calculating Performance Indicators**:\n",
    "   - After processing each batch, the model's predictions and loss are used to calculate the running accuracy and loss.\n",
    "   - These values are then averaged over all batches to obtain the epoch's average loss and accuracy.\n",
    "\n",
    "5. **Logging and Progress Update**:\n",
    "   - At the end of each epoch, the average loss and accuracy are printed, and the progress bar is updated."
   ],
   "metadata": {
    "collapsed": false
   },
   "id": "677881d18ae0a8bf"
  },
  {
   "cell_type": "code",
   "execution_count": 15,
   "outputs": [
    {
     "name": "stderr",
     "output_type": "stream",
     "text": [
      "  1%|          | 1/100 [00:11<18:21, 11.12s/it]"
     ]
    },
    {
     "name": "stdout",
     "output_type": "stream",
     "text": [
      "Epoch [1/100], Loss: 0.5964092749277182, Accuracy: 0.8649068593314764\n"
     ]
    },
    {
     "name": "stderr",
     "output_type": "stream",
     "text": [
      "  2%|▏         | 2/100 [00:22<18:10, 11.13s/it]"
     ]
    },
    {
     "name": "stdout",
     "output_type": "stream",
     "text": [
      "Epoch [2/100], Loss: 0.6697538053469778, Accuracy: 0.8352324164345404\n"
     ]
    },
    {
     "name": "stderr",
     "output_type": "stream",
     "text": [
      "  3%|▎         | 3/100 [00:33<17:44, 10.98s/it]"
     ]
    },
    {
     "name": "stdout",
     "output_type": "stream",
     "text": [
      "Epoch [3/100], Loss: 0.6841559864119013, Accuracy: 0.8446204735376045\n"
     ]
    },
    {
     "name": "stderr",
     "output_type": "stream",
     "text": [
      "  4%|▍         | 4/100 [00:43<17:27, 10.91s/it]"
     ]
    },
    {
     "name": "stdout",
     "output_type": "stream",
     "text": [
      "Epoch [4/100], Loss: 0.6319667941687636, Accuracy: 0.8554535167130919\n"
     ]
    },
    {
     "name": "stderr",
     "output_type": "stream",
     "text": [
      "  5%|▌         | 5/100 [00:54<17:15, 10.90s/it]"
     ]
    },
    {
     "name": "stdout",
     "output_type": "stream",
     "text": [
      "Epoch [5/100], Loss: 0.6062442797480067, Accuracy: 0.8665389972144847\n"
     ]
    },
    {
     "name": "stderr",
     "output_type": "stream",
     "text": [
      "  6%|▌         | 6/100 [01:05<17:02, 10.88s/it]"
     ]
    },
    {
     "name": "stdout",
     "output_type": "stream",
     "text": [
      "Epoch [6/100], Loss: 0.5614399757185735, Accuracy: 0.8753830083565459\n"
     ]
    },
    {
     "name": "stderr",
     "output_type": "stream",
     "text": [
      "  7%|▋         | 7/100 [01:16<16:49, 10.86s/it]"
     ]
    },
    {
     "name": "stdout",
     "output_type": "stream",
     "text": [
      "Epoch [7/100], Loss: 0.5116179810095153, Accuracy: 0.8955562325905293\n"
     ]
    },
    {
     "name": "stderr",
     "output_type": "stream",
     "text": [
      "  8%|▊         | 8/100 [01:27<16:35, 10.82s/it]"
     ]
    },
    {
     "name": "stdout",
     "output_type": "stream",
     "text": [
      "Epoch [8/100], Loss: 0.5134656784693081, Accuracy: 0.8870778203342619\n"
     ]
    },
    {
     "name": "stderr",
     "output_type": "stream",
     "text": [
      "  9%|▉         | 9/100 [01:37<16:21, 10.78s/it]"
     ]
    },
    {
     "name": "stdout",
     "output_type": "stream",
     "text": [
      "Epoch [9/100], Loss: 0.6041127104192278, Accuracy: 0.8602759401114206\n"
     ]
    },
    {
     "name": "stderr",
     "output_type": "stream",
     "text": [
      " 10%|█         | 10/100 [01:48<16:10, 10.78s/it]"
     ]
    },
    {
     "name": "stdout",
     "output_type": "stream",
     "text": [
      "Epoch [10/100], Loss: 0.6575821128615906, Accuracy: 0.8291303969359332\n"
     ]
    },
    {
     "name": "stderr",
     "output_type": "stream",
     "text": [
      " 11%|█         | 11/100 [01:59<16:01, 10.81s/it]"
     ]
    },
    {
     "name": "stdout",
     "output_type": "stream",
     "text": [
      "Epoch [11/100], Loss: 0.49607472573543293, Accuracy: 0.8885750348189415\n"
     ]
    },
    {
     "name": "stderr",
     "output_type": "stream",
     "text": [
      " 12%|█▏        | 12/100 [02:10<15:57, 10.88s/it]"
     ]
    },
    {
     "name": "stdout",
     "output_type": "stream",
     "text": [
      "Epoch [12/100], Loss: 0.4890700469475034, Accuracy: 0.8862943941504178\n"
     ]
    },
    {
     "name": "stderr",
     "output_type": "stream",
     "text": [
      " 13%|█▎        | 13/100 [02:21<15:44, 10.86s/it]"
     ]
    },
    {
     "name": "stdout",
     "output_type": "stream",
     "text": [
      "Epoch [13/100], Loss: 0.4930179383959107, Accuracy: 0.8849277506963789\n"
     ]
    },
    {
     "name": "stderr",
     "output_type": "stream",
     "text": [
      " 14%|█▍        | 14/100 [02:31<15:27, 10.78s/it]"
     ]
    },
    {
     "name": "stdout",
     "output_type": "stream",
     "text": [
      "Epoch [14/100], Loss: 0.5078660347871413, Accuracy: 0.9012143105849583\n"
     ]
    },
    {
     "name": "stderr",
     "output_type": "stream",
     "text": [
      " 15%|█▌        | 15/100 [02:42<15:19, 10.82s/it]"
     ]
    },
    {
     "name": "stdout",
     "output_type": "stream",
     "text": [
      "Epoch [15/100], Loss: 0.4722110244461616, Accuracy: 0.9123911908077994\n"
     ]
    },
    {
     "name": "stderr",
     "output_type": "stream",
     "text": [
      " 16%|█▌        | 16/100 [02:53<15:00, 10.72s/it]"
     ]
    },
    {
     "name": "stdout",
     "output_type": "stream",
     "text": [
      "Epoch [16/100], Loss: 0.4486743103906313, Accuracy: 0.9126175139275766\n"
     ]
    },
    {
     "name": "stderr",
     "output_type": "stream",
     "text": [
      " 17%|█▋        | 17/100 [03:03<14:40, 10.61s/it]"
     ]
    },
    {
     "name": "stdout",
     "output_type": "stream",
     "text": [
      "Epoch [17/100], Loss: 0.45348908452101105, Accuracy: 0.9204604805013927\n"
     ]
    },
    {
     "name": "stderr",
     "output_type": "stream",
     "text": [
      " 18%|█▊        | 18/100 [03:14<14:36, 10.70s/it]"
     ]
    },
    {
     "name": "stdout",
     "output_type": "stream",
     "text": [
      "Epoch [18/100], Loss: 0.4649880576380443, Accuracy: 0.9163126740947075\n"
     ]
    },
    {
     "name": "stderr",
     "output_type": "stream",
     "text": [
      " 19%|█▉        | 19/100 [03:25<14:27, 10.70s/it]"
     ]
    },
    {
     "name": "stdout",
     "output_type": "stream",
     "text": [
      "Epoch [19/100], Loss: 0.47569956153184345, Accuracy: 0.9111028899721448\n"
     ]
    },
    {
     "name": "stderr",
     "output_type": "stream",
     "text": [
      " 20%|██        | 20/100 [03:36<14:19, 10.74s/it]"
     ]
    },
    {
     "name": "stdout",
     "output_type": "stream",
     "text": [
      "Epoch [20/100], Loss: 0.44825285205602183, Accuracy: 0.9197510445682451\n"
     ]
    },
    {
     "name": "stderr",
     "output_type": "stream",
     "text": [
      " 21%|██        | 21/100 [03:46<13:59, 10.62s/it]"
     ]
    },
    {
     "name": "stdout",
     "output_type": "stream",
     "text": [
      "Epoch [21/100], Loss: 0.4480130790377366, Accuracy: 0.9178882311977716\n"
     ]
    },
    {
     "name": "stderr",
     "output_type": "stream",
     "text": [
      " 22%|██▏       | 22/100 [03:56<13:41, 10.53s/it]"
     ]
    },
    {
     "name": "stdout",
     "output_type": "stream",
     "text": [
      "Epoch [22/100], Loss: 0.4579092515926595, Accuracy: 0.9141800139275766\n"
     ]
    },
    {
     "name": "stderr",
     "output_type": "stream",
     "text": [
      " 23%|██▎       | 23/100 [04:07<13:26, 10.48s/it]"
     ]
    },
    {
     "name": "stdout",
     "output_type": "stream",
     "text": [
      "Epoch [23/100], Loss: 0.4796259573314922, Accuracy: 0.9051357938718663\n"
     ]
    },
    {
     "name": "stderr",
     "output_type": "stream",
     "text": [
      " 24%|██▍       | 24/100 [04:17<13:14, 10.45s/it]"
     ]
    },
    {
     "name": "stdout",
     "output_type": "stream",
     "text": [
      "Epoch [24/100], Loss: 0.4839813681076184, Accuracy: 0.9024068593314764\n"
     ]
    },
    {
     "name": "stderr",
     "output_type": "stream",
     "text": [
      " 25%|██▌       | 25/100 [04:27<13:00, 10.41s/it]"
     ]
    },
    {
     "name": "stdout",
     "output_type": "stream",
     "text": [
      "Epoch [25/100], Loss: 0.4828386830401777, Accuracy: 0.9030510097493036\n"
     ]
    },
    {
     "name": "stderr",
     "output_type": "stream",
     "text": [
      " 26%|██▌       | 26/100 [04:38<12:47, 10.38s/it]"
     ]
    },
    {
     "name": "stdout",
     "output_type": "stream",
     "text": [
      "Epoch [26/100], Loss: 0.47730019856569017, Accuracy: 0.9033861420612813\n"
     ]
    },
    {
     "name": "stderr",
     "output_type": "stream",
     "text": [
      " 27%|██▋       | 27/100 [04:48<12:35, 10.35s/it]"
     ]
    },
    {
     "name": "stdout",
     "output_type": "stream",
     "text": [
      "Epoch [27/100], Loss: 0.4770057977139606, Accuracy: 0.906637360724234\n"
     ]
    },
    {
     "name": "stderr",
     "output_type": "stream",
     "text": [
      " 28%|██▊       | 28/100 [04:58<12:24, 10.34s/it]"
     ]
    },
    {
     "name": "stdout",
     "output_type": "stream",
     "text": [
      "Epoch [28/100], Loss: 0.472068597969348, Accuracy: 0.9052924791086351\n"
     ]
    },
    {
     "name": "stderr",
     "output_type": "stream",
     "text": [
      " 29%|██▉       | 29/100 [05:09<12:13, 10.33s/it]"
     ]
    },
    {
     "name": "stdout",
     "output_type": "stream",
     "text": [
      "Epoch [29/100], Loss: 0.47455056945826307, Accuracy: 0.9050313370473537\n"
     ]
    },
    {
     "name": "stderr",
     "output_type": "stream",
     "text": [
      " 30%|███       | 30/100 [05:19<12:02, 10.32s/it]"
     ]
    },
    {
     "name": "stdout",
     "output_type": "stream",
     "text": [
      "Epoch [30/100], Loss: 0.4721288842897627, Accuracy: 0.9051619080779945\n"
     ]
    },
    {
     "name": "stderr",
     "output_type": "stream",
     "text": [
      " 31%|███       | 31/100 [05:29<11:51, 10.32s/it]"
     ]
    },
    {
     "name": "stdout",
     "output_type": "stream",
     "text": [
      "Epoch [31/100], Loss: 0.4663435918978452, Accuracy: 0.9071770543175487\n"
     ]
    },
    {
     "name": "stderr",
     "output_type": "stream",
     "text": [
      " 32%|███▏      | 32/100 [05:39<11:41, 10.32s/it]"
     ]
    },
    {
     "name": "stdout",
     "output_type": "stream",
     "text": [
      "Epoch [32/100], Loss: 0.4584492962639296, Accuracy: 0.9092836002785515\n"
     ]
    },
    {
     "name": "stderr",
     "output_type": "stream",
     "text": [
      " 33%|███▎      | 33/100 [05:50<11:30, 10.31s/it]"
     ]
    },
    {
     "name": "stdout",
     "output_type": "stream",
     "text": [
      "Epoch [33/100], Loss: 0.44787338677632027, Accuracy: 0.9115511838440111\n"
     ]
    },
    {
     "name": "stderr",
     "output_type": "stream",
     "text": [
      " 34%|███▍      | 34/100 [06:00<11:20, 10.31s/it]"
     ]
    },
    {
     "name": "stdout",
     "output_type": "stream",
     "text": [
      "Epoch [34/100], Loss: 0.4367873638668948, Accuracy: 0.9136142061281337\n"
     ]
    },
    {
     "name": "stderr",
     "output_type": "stream",
     "text": [
      " 35%|███▌      | 35/100 [06:10<11:09, 10.30s/it]"
     ]
    },
    {
     "name": "stdout",
     "output_type": "stream",
     "text": [
      "Epoch [35/100], Loss: 0.4252429143711211, Accuracy: 0.9156946378830083\n"
     ]
    },
    {
     "name": "stderr",
     "output_type": "stream",
     "text": [
      " 36%|███▌      | 36/100 [06:21<10:59, 10.30s/it]"
     ]
    },
    {
     "name": "stdout",
     "output_type": "stream",
     "text": [
      "Epoch [36/100], Loss: 0.4140134099191455, Accuracy: 0.9188413997214485\n"
     ]
    },
    {
     "name": "stderr",
     "output_type": "stream",
     "text": [
      " 37%|███▋      | 37/100 [06:31<10:49, 10.31s/it]"
     ]
    },
    {
     "name": "stdout",
     "output_type": "stream",
     "text": [
      "Epoch [37/100], Loss: 0.405167832823744, Accuracy: 0.9211829735376045\n"
     ]
    },
    {
     "name": "stderr",
     "output_type": "stream",
     "text": [
      " 38%|███▊      | 38/100 [06:41<10:39, 10.31s/it]"
     ]
    },
    {
     "name": "stdout",
     "output_type": "stream",
     "text": [
      "Epoch [38/100], Loss: 0.3965442162632981, Accuracy: 0.922841225626741\n"
     ]
    },
    {
     "name": "stderr",
     "output_type": "stream",
     "text": [
      " 39%|███▉      | 39/100 [06:52<10:28, 10.30s/it]"
     ]
    },
    {
     "name": "stdout",
     "output_type": "stream",
     "text": [
      "Epoch [39/100], Loss: 0.38843455063943333, Accuracy: 0.9241556406685236\n"
     ]
    },
    {
     "name": "stderr",
     "output_type": "stream",
     "text": [
      " 40%|████      | 40/100 [07:02<10:18, 10.30s/it]"
     ]
    },
    {
     "name": "stdout",
     "output_type": "stream",
     "text": [
      "Epoch [40/100], Loss: 0.3798329206956802, Accuracy: 0.9263797005571031\n"
     ]
    },
    {
     "name": "stderr",
     "output_type": "stream",
     "text": [
      " 41%|████      | 41/100 [07:12<10:08, 10.31s/it]"
     ]
    },
    {
     "name": "stdout",
     "output_type": "stream",
     "text": [
      "Epoch [41/100], Loss: 0.3722133932188011, Accuracy: 0.9286037604456825\n"
     ]
    },
    {
     "name": "stderr",
     "output_type": "stream",
     "text": [
      " 42%|████▏     | 42/100 [07:23<09:57, 10.30s/it]"
     ]
    },
    {
     "name": "stdout",
     "output_type": "stream",
     "text": [
      "Epoch [42/100], Loss: 0.3661952191305293, Accuracy: 0.9303185933147632\n"
     ]
    },
    {
     "name": "stderr",
     "output_type": "stream",
     "text": [
      " 43%|████▎     | 43/100 [07:33<09:47, 10.30s/it]"
     ]
    },
    {
     "name": "stdout",
     "output_type": "stream",
     "text": [
      "Epoch [43/100], Loss: 0.3625844347315135, Accuracy: 0.9291303969359331\n"
     ]
    },
    {
     "name": "stderr",
     "output_type": "stream",
     "text": [
      " 44%|████▍     | 44/100 [07:43<09:37, 10.31s/it]"
     ]
    },
    {
     "name": "stdout",
     "output_type": "stream",
     "text": [
      "Epoch [44/100], Loss: 0.36051277555206024, Accuracy: 0.9291565111420613\n"
     ]
    },
    {
     "name": "stderr",
     "output_type": "stream",
     "text": [
      " 45%|████▌     | 45/100 [07:53<09:26, 10.30s/it]"
     ]
    },
    {
     "name": "stdout",
     "output_type": "stream",
     "text": [
      "Epoch [45/100], Loss: 0.3598570855872306, Accuracy: 0.9301053272980502\n"
     ]
    },
    {
     "name": "stderr",
     "output_type": "stream",
     "text": [
      " 46%|████▌     | 46/100 [08:04<09:16, 10.31s/it]"
     ]
    },
    {
     "name": "stdout",
     "output_type": "stream",
     "text": [
      "Epoch [46/100], Loss: 0.35990324631338194, Accuracy: 0.9300922701949861\n"
     ]
    },
    {
     "name": "stderr",
     "output_type": "stream",
     "text": [
      " 47%|████▋     | 47/100 [08:14<09:05, 10.30s/it]"
     ]
    },
    {
     "name": "stdout",
     "output_type": "stream",
     "text": [
      "Epoch [47/100], Loss: 0.36035372328536885, Accuracy: 0.9298964136490251\n"
     ]
    },
    {
     "name": "stderr",
     "output_type": "stream",
     "text": [
      " 48%|████▊     | 48/100 [08:24<08:55, 10.30s/it]"
     ]
    },
    {
     "name": "stdout",
     "output_type": "stream",
     "text": [
      "Epoch [48/100], Loss: 0.36084967570328513, Accuracy: 0.9294742339832869\n"
     ]
    },
    {
     "name": "stderr",
     "output_type": "stream",
     "text": [
      " 49%|████▉     | 49/100 [08:35<08:45, 10.30s/it]"
     ]
    },
    {
     "name": "stdout",
     "output_type": "stream",
     "text": [
      "Epoch [49/100], Loss: 0.37693052105072367, Accuracy: 0.9254787604456824\n"
     ]
    },
    {
     "name": "stderr",
     "output_type": "stream",
     "text": [
      " 50%|█████     | 50/100 [08:45<08:34, 10.30s/it]"
     ]
    },
    {
     "name": "stdout",
     "output_type": "stream",
     "text": [
      "Epoch [50/100], Loss: 0.45866409482776205, Accuracy: 0.9101149025069638\n"
     ]
    },
    {
     "name": "stderr",
     "output_type": "stream",
     "text": [
      " 51%|█████     | 51/100 [08:55<08:24, 10.30s/it]"
     ]
    },
    {
     "name": "stdout",
     "output_type": "stream",
     "text": [
      "Epoch [51/100], Loss: 0.4003969641442098, Accuracy: 0.9176488509749303\n"
     ]
    },
    {
     "name": "stderr",
     "output_type": "stream",
     "text": [
      " 52%|█████▏    | 52/100 [09:06<08:14, 10.30s/it]"
     ]
    },
    {
     "name": "stdout",
     "output_type": "stream",
     "text": [
      "Epoch [52/100], Loss: 0.3940097110101944, Accuracy: 0.9185106197771588\n"
     ]
    },
    {
     "name": "stderr",
     "output_type": "stream",
     "text": [
      " 53%|█████▎    | 53/100 [09:16<08:04, 10.30s/it]"
     ]
    },
    {
     "name": "stdout",
     "output_type": "stream",
     "text": [
      "Epoch [53/100], Loss: 0.3903284710767466, Accuracy: 0.9184453342618384\n"
     ]
    },
    {
     "name": "stderr",
     "output_type": "stream",
     "text": [
      " 54%|█████▍    | 54/100 [09:26<07:53, 10.30s/it]"
     ]
    },
    {
     "name": "stdout",
     "output_type": "stream",
     "text": [
      "Epoch [54/100], Loss: 0.39199766308407424, Accuracy: 0.9182842966573816\n"
     ]
    },
    {
     "name": "stderr",
     "output_type": "stream",
     "text": [
      " 55%|█████▌    | 55/100 [09:36<07:43, 10.30s/it]"
     ]
    },
    {
     "name": "stdout",
     "output_type": "stream",
     "text": [
      "Epoch [55/100], Loss: 0.3959142088812847, Accuracy: 0.9166521587743732\n"
     ]
    },
    {
     "name": "stderr",
     "output_type": "stream",
     "text": [
      " 56%|█████▌    | 56/100 [09:47<07:33, 10.30s/it]"
     ]
    },
    {
     "name": "stdout",
     "output_type": "stream",
     "text": [
      "Epoch [56/100], Loss: 0.40301148244951435, Accuracy: 0.911320508356546\n"
     ]
    },
    {
     "name": "stderr",
     "output_type": "stream",
     "text": [
      " 57%|█████▋    | 57/100 [09:57<07:22, 10.30s/it]"
     ]
    },
    {
     "name": "stdout",
     "output_type": "stream",
     "text": [
      "Epoch [57/100], Loss: 0.4494313190900809, Accuracy: 0.9073555013927577\n"
     ]
    },
    {
     "name": "stderr",
     "output_type": "stream",
     "text": [
      " 58%|█████▊    | 58/100 [10:07<07:12, 10.30s/it]"
     ]
    },
    {
     "name": "stdout",
     "output_type": "stream",
     "text": [
      "Epoch [58/100], Loss: 0.4384865179629783, Accuracy: 0.9067896935933147\n"
     ]
    },
    {
     "name": "stderr",
     "output_type": "stream",
     "text": [
      " 59%|█████▉    | 59/100 [10:18<07:02, 10.30s/it]"
     ]
    },
    {
     "name": "stdout",
     "output_type": "stream",
     "text": [
      "Epoch [59/100], Loss: 0.4337192275473291, Accuracy: 0.9097144846796658\n"
     ]
    },
    {
     "name": "stderr",
     "output_type": "stream",
     "text": [
      " 60%|██████    | 60/100 [10:28<06:52, 10.30s/it]"
     ]
    },
    {
     "name": "stdout",
     "output_type": "stream",
     "text": [
      "Epoch [60/100], Loss: 0.41720377543919324, Accuracy: 0.9122867339832869\n"
     ]
    },
    {
     "name": "stderr",
     "output_type": "stream",
     "text": [
      " 61%|██████    | 61/100 [10:38<06:41, 10.30s/it]"
     ]
    },
    {
     "name": "stdout",
     "output_type": "stream",
     "text": [
      "Epoch [61/100], Loss: 0.46658633381142356, Accuracy: 0.9158426183844011\n"
     ]
    },
    {
     "name": "stderr",
     "output_type": "stream",
     "text": [
      " 62%|██████▏   | 62/100 [10:49<06:31, 10.31s/it]"
     ]
    },
    {
     "name": "stdout",
     "output_type": "stream",
     "text": [
      "Epoch [62/100], Loss: 0.46398521040093904, Accuracy: 0.9174051183844011\n"
     ]
    },
    {
     "name": "stderr",
     "output_type": "stream",
     "text": [
      " 63%|██████▎   | 63/100 [10:59<06:21, 10.31s/it]"
     ]
    },
    {
     "name": "stdout",
     "output_type": "stream",
     "text": [
      "Epoch [63/100], Loss: 0.43890143102295986, Accuracy: 0.9184670961002785\n"
     ]
    },
    {
     "name": "stderr",
     "output_type": "stream",
     "text": [
      " 64%|██████▍   | 64/100 [11:09<06:11, 10.31s/it]"
     ]
    },
    {
     "name": "stdout",
     "output_type": "stream",
     "text": [
      "Epoch [64/100], Loss: 0.4327687025331207, Accuracy: 0.9177141364902507\n"
     ]
    },
    {
     "name": "stderr",
     "output_type": "stream",
     "text": [
      " 65%|██████▌   | 65/100 [11:20<06:01, 10.32s/it]"
     ]
    },
    {
     "name": "stdout",
     "output_type": "stream",
     "text": [
      "Epoch [65/100], Loss: 0.4224160557830276, Accuracy: 0.9210306406685237\n"
     ]
    },
    {
     "name": "stderr",
     "output_type": "stream",
     "text": [
      " 66%|██████▌   | 66/100 [11:30<05:50, 10.31s/it]"
     ]
    },
    {
     "name": "stdout",
     "output_type": "stream",
     "text": [
      "Epoch [66/100], Loss: 0.40745034645481865, Accuracy: 0.923058844011142\n"
     ]
    },
    {
     "name": "stderr",
     "output_type": "stream",
     "text": [
      " 67%|██████▋   | 67/100 [11:40<05:40, 10.31s/it]"
     ]
    },
    {
     "name": "stdout",
     "output_type": "stream",
     "text": [
      "Epoch [67/100], Loss: 0.3991692967968981, Accuracy: 0.9260402158774373\n"
     ]
    },
    {
     "name": "stderr",
     "output_type": "stream",
     "text": [
      " 68%|██████▊   | 68/100 [11:50<05:30, 10.32s/it]"
     ]
    },
    {
     "name": "stdout",
     "output_type": "stream",
     "text": [
      "Epoch [68/100], Loss: 0.39570602907417335, Accuracy: 0.9282990947075209\n"
     ]
    },
    {
     "name": "stderr",
     "output_type": "stream",
     "text": [
      " 69%|██████▉   | 69/100 [12:01<05:20, 10.33s/it]"
     ]
    },
    {
     "name": "stdout",
     "output_type": "stream",
     "text": [
      "Epoch [69/100], Loss: 0.39035723397416233, Accuracy: 0.9279987813370474\n"
     ]
    },
    {
     "name": "stderr",
     "output_type": "stream",
     "text": [
      " 70%|███████   | 70/100 [12:11<05:09, 10.32s/it]"
     ]
    },
    {
     "name": "stdout",
     "output_type": "stream",
     "text": [
      "Epoch [70/100], Loss: 0.38201895046139067, Accuracy: 0.9275504874651811\n"
     ]
    },
    {
     "name": "stderr",
     "output_type": "stream",
     "text": [
      " 71%|███████   | 71/100 [12:21<04:59, 10.32s/it]"
     ]
    },
    {
     "name": "stdout",
     "output_type": "stream",
     "text": [
      "Epoch [71/100], Loss: 0.3789129540331596, Accuracy: 0.9276288300835654\n"
     ]
    },
    {
     "name": "stderr",
     "output_type": "stream",
     "text": [
      " 72%|███████▏  | 72/100 [12:32<04:48, 10.31s/it]"
     ]
    },
    {
     "name": "stdout",
     "output_type": "stream",
     "text": [
      "Epoch [72/100], Loss: 0.3732728757335329, Accuracy: 0.9284383704735376\n"
     ]
    },
    {
     "name": "stderr",
     "output_type": "stream",
     "text": [
      " 73%|███████▎  | 73/100 [12:42<04:38, 10.31s/it]"
     ]
    },
    {
     "name": "stdout",
     "output_type": "stream",
     "text": [
      "Epoch [73/100], Loss: 0.3600947451284044, Accuracy: 0.9275113161559888\n"
     ]
    },
    {
     "name": "stderr",
     "output_type": "stream",
     "text": [
      " 74%|███████▍  | 74/100 [12:52<04:27, 10.30s/it]"
     ]
    },
    {
     "name": "stdout",
     "output_type": "stream",
     "text": [
      "Epoch [74/100], Loss: 0.3572993777487344, Accuracy: 0.9280118384401114\n"
     ]
    },
    {
     "name": "stderr",
     "output_type": "stream",
     "text": [
      " 75%|███████▌  | 75/100 [13:03<04:17, 10.32s/it]"
     ]
    },
    {
     "name": "stdout",
     "output_type": "stream",
     "text": [
      "Epoch [75/100], Loss: 0.36948809581301, Accuracy: 0.9290302924791086\n"
     ]
    },
    {
     "name": "stderr",
     "output_type": "stream",
     "text": [
      " 76%|███████▌  | 76/100 [13:13<04:07, 10.31s/it]"
     ]
    },
    {
     "name": "stdout",
     "output_type": "stream",
     "text": [
      "Epoch [76/100], Loss: 0.35878085617469296, Accuracy: 0.9260663300835654\n"
     ]
    },
    {
     "name": "stderr",
     "output_type": "stream",
     "text": [
      " 77%|███████▋  | 77/100 [13:23<03:57, 10.31s/it]"
     ]
    },
    {
     "name": "stdout",
     "output_type": "stream",
     "text": [
      "Epoch [77/100], Loss: 0.3624829358606835, Accuracy: 0.9236855849582173\n"
     ]
    },
    {
     "name": "stderr",
     "output_type": "stream",
     "text": [
      " 78%|███████▊  | 78/100 [13:34<03:46, 10.30s/it]"
     ]
    },
    {
     "name": "stdout",
     "output_type": "stream",
     "text": [
      "Epoch [78/100], Loss: 0.36716248564604503, Accuracy: 0.9210741643454039\n"
     ]
    },
    {
     "name": "stderr",
     "output_type": "stream",
     "text": [
      " 79%|███████▉  | 79/100 [13:44<03:36, 10.31s/it]"
     ]
    },
    {
     "name": "stdout",
     "output_type": "stream",
     "text": [
      "Epoch [79/100], Loss: 0.360405634015213, Accuracy: 0.9256572075208913\n"
     ]
    },
    {
     "name": "stderr",
     "output_type": "stream",
     "text": [
      " 80%|████████  | 80/100 [13:54<03:26, 10.31s/it]"
     ]
    },
    {
     "name": "stdout",
     "output_type": "stream",
     "text": [
      "Epoch [80/100], Loss: 0.3585944276542616, Accuracy: 0.9242644498607242\n"
     ]
    },
    {
     "name": "stderr",
     "output_type": "stream",
     "text": [
      " 81%|████████  | 81/100 [14:05<03:15, 10.31s/it]"
     ]
    },
    {
     "name": "stdout",
     "output_type": "stream",
     "text": [
      "Epoch [81/100], Loss: 0.35407325109796445, Accuracy: 0.9251653899721448\n"
     ]
    },
    {
     "name": "stderr",
     "output_type": "stream",
     "text": [
      " 82%|████████▏ | 82/100 [14:15<03:05, 10.31s/it]"
     ]
    },
    {
     "name": "stdout",
     "output_type": "stream",
     "text": [
      "Epoch [82/100], Loss: 0.3539932827723654, Accuracy: 0.9243384401114206\n"
     ]
    },
    {
     "name": "stderr",
     "output_type": "stream",
     "text": [
      " 83%|████████▎ | 83/100 [14:25<02:55, 10.31s/it]"
     ]
    },
    {
     "name": "stdout",
     "output_type": "stream",
     "text": [
      "Epoch [83/100], Loss: 0.35292292155264915, Accuracy: 0.9243036211699165\n"
     ]
    },
    {
     "name": "stderr",
     "output_type": "stream",
     "text": [
      " 84%|████████▍ | 84/100 [14:35<02:44, 10.31s/it]"
     ]
    },
    {
     "name": "stdout",
     "output_type": "stream",
     "text": [
      "Epoch [84/100], Loss: 0.3536593136660204, Accuracy: 0.9237900417827298\n"
     ]
    },
    {
     "name": "stderr",
     "output_type": "stream",
     "text": [
      " 85%|████████▌ | 85/100 [14:46<02:34, 10.30s/it]"
     ]
    },
    {
     "name": "stdout",
     "output_type": "stream",
     "text": [
      "Epoch [85/100], Loss: 0.35403552281330714, Accuracy: 0.9233896239554318\n"
     ]
    },
    {
     "name": "stderr",
     "output_type": "stream",
     "text": [
      " 86%|████████▌ | 86/100 [14:56<02:24, 10.31s/it]"
     ]
    },
    {
     "name": "stdout",
     "output_type": "stream",
     "text": [
      "Epoch [86/100], Loss: 0.34941604498810963, Accuracy: 0.9247519150417828\n"
     ]
    },
    {
     "name": "stderr",
     "output_type": "stream",
     "text": [
      " 87%|████████▋ | 87/100 [15:06<02:13, 10.31s/it]"
     ]
    },
    {
     "name": "stdout",
     "output_type": "stream",
     "text": [
      "Epoch [87/100], Loss: 0.3483125853816158, Accuracy: 0.9251653899721448\n"
     ]
    },
    {
     "name": "stderr",
     "output_type": "stream",
     "text": [
      " 88%|████████▊ | 88/100 [15:17<02:03, 10.31s/it]"
     ]
    },
    {
     "name": "stdout",
     "output_type": "stream",
     "text": [
      "Epoch [88/100], Loss: 0.3491470380147286, Accuracy: 0.924791086350975\n"
     ]
    },
    {
     "name": "stderr",
     "output_type": "stream",
     "text": [
      " 89%|████████▉ | 89/100 [15:27<01:53, 10.31s/it]"
     ]
    },
    {
     "name": "stdout",
     "output_type": "stream",
     "text": [
      "Epoch [89/100], Loss: 0.36071007054782067, Accuracy: 0.92224930362117\n"
     ]
    },
    {
     "name": "stderr",
     "output_type": "stream",
     "text": [
      " 90%|█████████ | 90/100 [15:37<01:43, 10.30s/it]"
     ]
    },
    {
     "name": "stdout",
     "output_type": "stream",
     "text": [
      "Epoch [90/100], Loss: 0.39128883811902376, Accuracy: 0.9251479805013928\n"
     ]
    },
    {
     "name": "stderr",
     "output_type": "stream",
     "text": [
      " 91%|█████████ | 91/100 [15:48<01:32, 10.30s/it]"
     ]
    },
    {
     "name": "stdout",
     "output_type": "stream",
     "text": [
      "Epoch [91/100], Loss: 0.36006560839362556, Accuracy: 0.9215094011142061\n"
     ]
    },
    {
     "name": "stderr",
     "output_type": "stream",
     "text": [
      " 92%|█████████▏| 92/100 [15:58<01:22, 10.30s/it]"
     ]
    },
    {
     "name": "stdout",
     "output_type": "stream",
     "text": [
      "Epoch [92/100], Loss: 0.34874802233375346, Accuracy: 0.9302097841225627\n"
     ]
    },
    {
     "name": "stderr",
     "output_type": "stream",
     "text": [
      " 93%|█████████▎| 93/100 [16:08<01:12, 10.31s/it]"
     ]
    },
    {
     "name": "stdout",
     "output_type": "stream",
     "text": [
      "Epoch [93/100], Loss: 0.3446778446900666, Accuracy: 0.929099930362117\n"
     ]
    },
    {
     "name": "stderr",
     "output_type": "stream",
     "text": [
      " 94%|█████████▍| 94/100 [16:18<01:01, 10.30s/it]"
     ]
    },
    {
     "name": "stdout",
     "output_type": "stream",
     "text": [
      "Epoch [94/100], Loss: 0.33107457966181336, Accuracy: 0.9371431058495822\n"
     ]
    },
    {
     "name": "stderr",
     "output_type": "stream",
     "text": [
      " 95%|█████████▌| 95/100 [16:29<00:51, 10.30s/it]"
     ]
    },
    {
     "name": "stdout",
     "output_type": "stream",
     "text": [
      "Epoch [95/100], Loss: 0.3617299519207221, Accuracy: 0.9156467618384401\n"
     ]
    },
    {
     "name": "stderr",
     "output_type": "stream",
     "text": [
      " 96%|█████████▌| 96/100 [16:39<00:41, 10.28s/it]"
     ]
    },
    {
     "name": "stdout",
     "output_type": "stream",
     "text": [
      "Epoch [96/100], Loss: 0.35252909171415936, Accuracy: 0.9274982590529248\n"
     ]
    },
    {
     "name": "stderr",
     "output_type": "stream",
     "text": [
      " 97%|█████████▋| 97/100 [16:49<00:30, 10.29s/it]"
     ]
    },
    {
     "name": "stdout",
     "output_type": "stream",
     "text": [
      "Epoch [97/100], Loss: 0.3388090946832116, Accuracy: 0.9307277158774373\n"
     ]
    },
    {
     "name": "stderr",
     "output_type": "stream",
     "text": [
      " 98%|█████████▊| 98/100 [17:00<00:20, 10.30s/it]"
     ]
    },
    {
     "name": "stdout",
     "output_type": "stream",
     "text": [
      "Epoch [98/100], Loss: 0.33284261000367543, Accuracy: 0.9323642061281338\n"
     ]
    },
    {
     "name": "stderr",
     "output_type": "stream",
     "text": [
      " 99%|█████████▉| 99/100 [17:10<00:10, 10.30s/it]"
     ]
    },
    {
     "name": "stdout",
     "output_type": "stream",
     "text": [
      "Epoch [99/100], Loss: 0.33026519210583544, Accuracy: 0.9334566504178273\n"
     ]
    },
    {
     "name": "stderr",
     "output_type": "stream",
     "text": [
      "  0%|          | 0/100 [00:00<?, ?it/s]          "
     ]
    },
    {
     "name": "stdout",
     "output_type": "stream",
     "text": [
      "Epoch [100/100], Loss: 0.32758701475072804, Accuracy: 0.9344272284122562\n"
     ]
    }
   ],
   "source": [
    "num_epochs = 100\n",
    "pbar = tqdm(total=num_epochs)\n",
    "loss_list = [None] * num_epochs\n",
    "acc_list = [None] * num_epochs\n",
    "for epoch in range(num_epochs):\n",
    "    model.train()\n",
    "    running_loss = 0.0\n",
    "    running_accuracy = 0.0\n",
    "    times = 0\n",
    "\n",
    "    for inputs, labels in train_loader:\n",
    "        # FP\n",
    "        outputs = model(inputs)\n",
    "        loss = criterion(outputs, labels)\n",
    "\n",
    "        # BP and optimization\n",
    "        optimizer.zero_grad()\n",
    "        loss.backward()\n",
    "        optimizer.step()\n",
    "\n",
    "        # Calculate indicators\n",
    "        model.eval()\n",
    "        with torch.no_grad():\n",
    "            probabilities = torch.sigmoid(outputs)\n",
    "            predictions = (probabilities > 0.5).float().cpu().numpy()\n",
    "\n",
    "            # Calculate indicators\n",
    "            y = labels.cpu().numpy()\n",
    "            running_loss += loss.item() * inputs.size(0)\n",
    "            running_accuracy += accuracy_score(y, predictions)\n",
    "            times += 1\n",
    "            \n",
    "    epoch_loss = running_loss / len(train_loader.dataset)\n",
    "    accuracy = running_accuracy / times\n",
    "    loss_list[epoch] = epoch_loss\n",
    "    acc_list[epoch] = accuracy\n",
    "    print(f'Epoch [{epoch+1}/{num_epochs}], Loss: {epoch_loss}, Accuracy: {accuracy}')\n",
    "\n",
    "    pbar.update(1)\n",
    "pbar.reset()"
   ],
   "metadata": {
    "collapsed": false,
    "ExecuteTime": {
     "end_time": "2023-11-23T00:01:33.723871Z",
     "start_time": "2023-11-22T23:44:12.992058Z"
    }
   },
   "id": "234ca3f008e97e4b"
  },
  {
   "cell_type": "markdown",
   "source": [
    "## Plotting Training Loss and Accuracy\n",
    "\n",
    "This section of the code is focused on visualizing the training performance of the model in terms of loss and accuracy across epochs."
   ],
   "metadata": {
    "collapsed": false
   },
   "id": "2a90b287ae5db1a3"
  },
  {
   "cell_type": "code",
   "execution_count": 16,
   "outputs": [
    {
     "data": {
      "text/plain": "<Figure size 1200x500 with 2 Axes>",
      "image/png": "[encoded data removed]"
     },
     "metadata": {},
     "output_type": "display_data"
    }
   ],
   "source": [
    "plt.figure(figsize=(12, 5))\n",
    "plt.subplot(1, 2, 1)\n",
    "plt.plot(loss_list, label='Training Loss')\n",
    "plt.title('Training Loss per Epoch')\n",
    "plt.xlabel('Epoch')\n",
    "plt.ylabel('Loss')\n",
    "plt.legend()\n",
    "\n",
    "# Draw accuracy curve\n",
    "plt.subplot(1, 2, 2)\n",
    "plt.plot(acc_list, label='Training Accuracy')\n",
    "plt.title('Training Accuracy per Epoch')\n",
    "plt.xlabel('Epoch')\n",
    "plt.ylabel('Accuracy')\n",
    "plt.legend()\n",
    "\n",
    "plt.show()"
   ],
   "metadata": {
    "collapsed": false,
    "ExecuteTime": {
     "end_time": "2023-11-23T00:01:33.892637Z",
     "start_time": "2023-11-23T00:01:33.724979Z"
    }
   },
   "id": "7bab09ae6142362b"
  },
  {
   "cell_type": "markdown",
   "source": [
    "## Evaluating the Model on the Test Dataset\n",
    "\n",
    "This code section describes the process of evaluating the trained neural network model on the test dataset to assess its performance and generalization ability.\n",
    "\n",
    "1. **Preparing Test Data**:\n",
    "   - `X_test_tensor`: The test feature data (`X_test`) is converted into a PyTorch tensor, ensuring it is in the correct format (floating point) and dimensionality for the model.\n",
    "\n",
    "2. **Model Evaluation Mode**:\n",
    "   - `model.eval()`: This command sets the model to evaluation mode, disabling certain layers that are only active during training.\n",
    "\n",
    "3. **Generating Predictions**:\n",
    "   - The model is used to compute the output for the test data (`outputs`).\n",
    "   - `torch.no_grad()`: Ensures that no gradient calculations are performed, which is necessary for evaluation as it saves memory and computations.\n",
    "   - `probabilities`: The raw outputs from the model are passed through a sigmoid function to convert them into probabilities.\n",
    "   - `predictions`: Probabilities are converted into binary predictions based on a threshold of 0.5.\n",
    "\n",
    "4. **Calculating Performance Metrics**:\n",
    "   - Various metrics such as accuracy, precision, recall, and F1 score are computed to measure the model's performance. These metrics provide insights into how well the model is performing, particularly in terms of identifying positive cases (attacks) correctly.\n",
    "\n",
    "5. **Displaying Evaluation Results**:\n",
    "   - The performance metrics are printed, giving a comprehensive view of the model's effectiveness on the test dataset.\n",
    "\n",
    "This evaluation step is crucial for understanding the real-world applicability of the model in classifying IoT device data, specifically in distinguishing between normal operations and potential security threats."
   ],
   "metadata": {
    "collapsed": false
   },
   "id": "74bc101f20737968"
  },
  {
   "cell_type": "code",
   "execution_count": 17,
   "outputs": [
    {
     "name": "stdout",
     "output_type": "stream",
     "text": [
      "Accuracy:  0.9327982729504344 , Precision:  0.8335528482054659 , Recall:  0.6399140546006067 , F1:  0.724009724009724\n"
     ]
    }
   ],
   "source": [
    "X_test_tensor = torch.tensor(X_test.values).float().unsqueeze(1).to(device)\n",
    "\n",
    "model.eval()\n",
    "outputs = model(X_test_tensor)\n",
    "with torch.no_grad():\n",
    "    probabilities = torch.sigmoid(outputs)\n",
    "    predictions = (probabilities > 0.5).float().cpu().numpy()\n",
    "\n",
    "    # Calculate indicators\n",
    "    acc = accuracy_score(y_test, predictions)\n",
    "    precision = precision_score(y_test, predictions)\n",
    "    recall = recall_score(y_test, predictions)\n",
    "    f1 = f1_score(y_test, predictions)\n",
    "\n",
    "    print(\"Accuracy: \", acc, \", Precision: \", precision, \", Recall: \", recall, \", F1: \", f1)"
   ],
   "metadata": {
    "collapsed": false,
    "ExecuteTime": {
     "end_time": "2023-11-23T00:01:34.353198Z",
     "start_time": "2023-11-23T00:01:33.893775Z"
    }
   },
   "id": "ff3af552cbe05e41"
  },
  {
   "cell_type": "markdown",
   "source": [
    "# Saving the Trained Model\n",
    "\n",
    "This section of the code deals with saving the trained model for future inference purposes. The model can be deployed either directly on IoT devices or used in a fog computing setup through local routers or servers, which helps in offloading computational tasks from the local IoT devices."
   ],
   "metadata": {
    "collapsed": false
   },
   "id": "a37bb5c5380a6d9e"
  },
  {
   "cell_type": "code",
   "execution_count": 18,
   "outputs": [
    {
     "name": "stdout",
     "output_type": "stream",
     "text": [
      "Model saved as: save_model/model_lstm_2023-11-23_11-01-34.pt\n"
     ]
    }
   ],
   "source": [
    "save_folder = \"save_model\"\n",
    "\n",
    "if not os.path.exists(save_folder):\n",
    "    os.makedirs(save_folder)\n",
    "\n",
    "current_time = datetime.now().strftime(\"%Y-%m-%d_%H-%M-%S\")\n",
    "model_filename = f\"model_lstm_{current_time}.pt\"\n",
    "if multiplier == 1:\n",
    "    model_filename = f\"model_lstm_{current_time}_without_width_multiplier.pt\"\n",
    "full_path = os.path.join(save_folder, model_filename)\n",
    "torch.save(model.state_dict(), full_path)\n",
    "\n",
    "print(\"Model saved as:\", full_path)"
   ],
   "metadata": {
    "collapsed": false,
    "ExecuteTime": {
     "end_time": "2023-11-23T00:01:34.353932Z",
     "start_time": "2023-11-23T00:01:34.328232Z"
    }
   },
   "id": "e0e155fdfdd5bb14"
  }
 ],
 "metadata": {
  "kernelspec": {
   "display_name": "Python 3",
   "language": "python",
   "name": "python3"
  },
  "language_info": {
   "codemirror_mode": {
    "name": "ipython",
    "version": 2
   },
   "file_extension": ".py",
   "mimetype": "text/x-python",
   "name": "python",
   "nbconvert_exporter": "python",
   "pygments_lexer": "ipython2",
   "version": "2.7.6"
  }
 },
 "nbformat": 4,
 "nbformat_minor": 5
}
